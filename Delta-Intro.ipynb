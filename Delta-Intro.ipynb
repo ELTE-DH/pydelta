{
 "cells": [
  {
   "cell_type": "markdown",
   "metadata": {
    "deletable": true,
    "editable": true,
    "slideshow": {
     "slide_type": "slide"
    }
   },
   "source": [
    "## pyΔ.next"
   ]
  },
  {
   "cell_type": "code",
   "execution_count": 1,
   "metadata": {
    "collapsed": false,
    "deletable": true,
    "editable": true,
    "slideshow": {
     "slide_type": "slide"
    }
   },
   "outputs": [
    {
     "name": "stdout",
     "output_type": "stream",
     "text": [
      "['', '/home/vitt/.pyenv/versions/3.4.6/lib/python34.zip', '/home/vitt/.pyenv/versions/3.4.6/lib/python3.4', '/home/vitt/.pyenv/versions/3.4.6/lib/python3.4/plat-linux', '/home/vitt/.pyenv/versions/3.4.6/lib/python3.4/lib-dynload', '/home/vitt/.pyenv/versions/pydelta-next/lib/python3.4/site-packages', '/home/vitt/git/pydelta', '/home/vitt/.pyenv/versions/pydelta-next/lib/python3.4/site-packages/IPython/extensions', '/home/vitt/.ipython']\n"
     ]
    }
   ],
   "source": [
    "import sys; print(sys.path)\n",
    "%matplotlib inline\n",
    "import pandas as pd\n",
    "import numpy as np\n",
    "try:\n",
    "    import seaborn     # sieht halt besser aus\n",
    "except ImportError:\n",
    "    pass               # dann halt nicht\n",
    "import delta"
   ]
  },
  {
   "cell_type": "markdown",
   "metadata": {
    "deletable": true,
    "editable": true,
    "slideshow": {
     "slide_type": "slide"
    }
   },
   "source": [
    "## 1. Corpus vorbereiten"
   ]
  },
  {
   "cell_type": "code",
   "execution_count": 2,
   "metadata": {
    "collapsed": false,
    "deletable": true,
    "editable": true,
    "slideshow": {
     "slide_type": "-"
    }
   },
   "outputs": [],
   "source": [
    "whole_corpus = delta.Corpus(\"test/corpus3/\")\n",
    "corpus = whole_corpus.top_n(2500)"
   ]
  },
  {
   "cell_type": "markdown",
   "metadata": {
    "deletable": true,
    "editable": true,
    "slideshow": {
     "slide_type": "slide"
    }
   },
   "source": [
    "### 2. Corpus → Distanzmatrix"
   ]
  },
  {
   "cell_type": "code",
   "execution_count": 3,
   "metadata": {
    "collapsed": false,
    "deletable": true,
    "editable": true,
    "slideshow": {
     "slide_type": "-"
    }
   },
   "outputs": [
    {
     "data": {
      "text/html": [
       "<div>\n",
       "<table border=\"1\" class=\"dataframe\">\n",
       "  <thead>\n",
       "    <tr style=\"text-align: right;\">\n",
       "      <th></th>\n",
       "      <th>Fontane,-Theodor_Der-Stechlin</th>\n",
       "      <th>Fontane,-Theodor_Effi-Briest</th>\n",
       "      <th>Fontane,-Theodor_Frau-Jenny-Treibel</th>\n",
       "      <th>Marlitt,-Eugenie_Das-Geheimnis-der-alten-Mamsell</th>\n",
       "      <th>Marlitt,-Eugenie_Das-Heideprinzesschen</th>\n",
       "      <th>Marlitt,-Eugenie_Die-Frau-mit-den-Karfunkelsteinen</th>\n",
       "      <th>Raabe,-Wilhelm_Die-Chronik-der-Sperlingsgasse</th>\n",
       "      <th>Raabe,-Wilhelm_Im-alten-Eisen</th>\n",
       "      <th>Raabe,-Wilhelm_Stopfkuchen</th>\n",
       "    </tr>\n",
       "  </thead>\n",
       "  <tbody>\n",
       "    <tr>\n",
       "      <th>Fontane,-Theodor_Der-Stechlin</th>\n",
       "      <td>0.000000</td>\n",
       "      <td>0.640157</td>\n",
       "      <td>1.017926</td>\n",
       "      <td>1.331243</td>\n",
       "      <td>1.119296</td>\n",
       "      <td>1.257329</td>\n",
       "      <td>1.402441</td>\n",
       "      <td>1.343237</td>\n",
       "      <td>1.246155</td>\n",
       "    </tr>\n",
       "    <tr>\n",
       "      <th>Fontane,-Theodor_Effi-Briest</th>\n",
       "      <td>0.640157</td>\n",
       "      <td>0.000000</td>\n",
       "      <td>0.897811</td>\n",
       "      <td>1.304392</td>\n",
       "      <td>1.215294</td>\n",
       "      <td>1.260774</td>\n",
       "      <td>1.280661</td>\n",
       "      <td>1.258676</td>\n",
       "      <td>1.209208</td>\n",
       "    </tr>\n",
       "    <tr>\n",
       "      <th>Fontane,-Theodor_Frau-Jenny-Treibel</th>\n",
       "      <td>1.017926</td>\n",
       "      <td>0.897811</td>\n",
       "      <td>0.000000</td>\n",
       "      <td>1.267795</td>\n",
       "      <td>1.506644</td>\n",
       "      <td>1.354223</td>\n",
       "      <td>0.837908</td>\n",
       "      <td>0.886441</td>\n",
       "      <td>0.909698</td>\n",
       "    </tr>\n",
       "    <tr>\n",
       "      <th>Marlitt,-Eugenie_Das-Geheimnis-der-alten-Mamsell</th>\n",
       "      <td>1.331243</td>\n",
       "      <td>1.304392</td>\n",
       "      <td>1.267795</td>\n",
       "      <td>0.000000</td>\n",
       "      <td>0.725335</td>\n",
       "      <td>0.801244</td>\n",
       "      <td>1.133478</td>\n",
       "      <td>1.200938</td>\n",
       "      <td>1.268060</td>\n",
       "    </tr>\n",
       "    <tr>\n",
       "      <th>Marlitt,-Eugenie_Das-Heideprinzesschen</th>\n",
       "      <td>1.119296</td>\n",
       "      <td>1.215294</td>\n",
       "      <td>1.506644</td>\n",
       "      <td>0.725335</td>\n",
       "      <td>0.000000</td>\n",
       "      <td>0.722380</td>\n",
       "      <td>1.329303</td>\n",
       "      <td>1.395609</td>\n",
       "      <td>1.387786</td>\n",
       "    </tr>\n",
       "    <tr>\n",
       "      <th>Marlitt,-Eugenie_Die-Frau-mit-den-Karfunkelsteinen</th>\n",
       "      <td>1.257329</td>\n",
       "      <td>1.260774</td>\n",
       "      <td>1.354223</td>\n",
       "      <td>0.801244</td>\n",
       "      <td>0.722380</td>\n",
       "      <td>0.000000</td>\n",
       "      <td>1.203421</td>\n",
       "      <td>1.215720</td>\n",
       "      <td>1.247171</td>\n",
       "    </tr>\n",
       "    <tr>\n",
       "      <th>Raabe,-Wilhelm_Die-Chronik-der-Sperlingsgasse</th>\n",
       "      <td>1.402441</td>\n",
       "      <td>1.280661</td>\n",
       "      <td>0.837908</td>\n",
       "      <td>1.133478</td>\n",
       "      <td>1.329303</td>\n",
       "      <td>1.203421</td>\n",
       "      <td>0.000000</td>\n",
       "      <td>0.732207</td>\n",
       "      <td>0.793546</td>\n",
       "    </tr>\n",
       "    <tr>\n",
       "      <th>Raabe,-Wilhelm_Im-alten-Eisen</th>\n",
       "      <td>1.343237</td>\n",
       "      <td>1.258676</td>\n",
       "      <td>0.886441</td>\n",
       "      <td>1.200938</td>\n",
       "      <td>1.395609</td>\n",
       "      <td>1.215720</td>\n",
       "      <td>0.732207</td>\n",
       "      <td>0.000000</td>\n",
       "      <td>0.624532</td>\n",
       "    </tr>\n",
       "    <tr>\n",
       "      <th>Raabe,-Wilhelm_Stopfkuchen</th>\n",
       "      <td>1.246155</td>\n",
       "      <td>1.209208</td>\n",
       "      <td>0.909698</td>\n",
       "      <td>1.268060</td>\n",
       "      <td>1.387786</td>\n",
       "      <td>1.247171</td>\n",
       "      <td>0.793546</td>\n",
       "      <td>0.624532</td>\n",
       "      <td>0.000000</td>\n",
       "    </tr>\n",
       "  </tbody>\n",
       "</table>\n",
       "</div>"
      ],
      "text/plain": [
       "                                                    Fontane,-Theodor_Der-Stechlin  \\\n",
       "Fontane,-Theodor_Der-Stechlin                                            0.000000   \n",
       "Fontane,-Theodor_Effi-Briest                                             0.640157   \n",
       "Fontane,-Theodor_Frau-Jenny-Treibel                                      1.017926   \n",
       "Marlitt,-Eugenie_Das-Geheimnis-der-alten-Mamsell                         1.331243   \n",
       "Marlitt,-Eugenie_Das-Heideprinzesschen                                   1.119296   \n",
       "Marlitt,-Eugenie_Die-Frau-mit-den-Karfunkelsteinen                       1.257329   \n",
       "Raabe,-Wilhelm_Die-Chronik-der-Sperlingsgasse                            1.402441   \n",
       "Raabe,-Wilhelm_Im-alten-Eisen                                            1.343237   \n",
       "Raabe,-Wilhelm_Stopfkuchen                                               1.246155   \n",
       "\n",
       "                                                    Fontane,-Theodor_Effi-Briest  \\\n",
       "Fontane,-Theodor_Der-Stechlin                                           0.640157   \n",
       "Fontane,-Theodor_Effi-Briest                                            0.000000   \n",
       "Fontane,-Theodor_Frau-Jenny-Treibel                                     0.897811   \n",
       "Marlitt,-Eugenie_Das-Geheimnis-der-alten-Mamsell                        1.304392   \n",
       "Marlitt,-Eugenie_Das-Heideprinzesschen                                  1.215294   \n",
       "Marlitt,-Eugenie_Die-Frau-mit-den-Karfunkelsteinen                      1.260774   \n",
       "Raabe,-Wilhelm_Die-Chronik-der-Sperlingsgasse                           1.280661   \n",
       "Raabe,-Wilhelm_Im-alten-Eisen                                           1.258676   \n",
       "Raabe,-Wilhelm_Stopfkuchen                                              1.209208   \n",
       "\n",
       "                                                    Fontane,-Theodor_Frau-Jenny-Treibel  \\\n",
       "Fontane,-Theodor_Der-Stechlin                                                  1.017926   \n",
       "Fontane,-Theodor_Effi-Briest                                                   0.897811   \n",
       "Fontane,-Theodor_Frau-Jenny-Treibel                                            0.000000   \n",
       "Marlitt,-Eugenie_Das-Geheimnis-der-alten-Mamsell                               1.267795   \n",
       "Marlitt,-Eugenie_Das-Heideprinzesschen                                         1.506644   \n",
       "Marlitt,-Eugenie_Die-Frau-mit-den-Karfunkelsteinen                             1.354223   \n",
       "Raabe,-Wilhelm_Die-Chronik-der-Sperlingsgasse                                  0.837908   \n",
       "Raabe,-Wilhelm_Im-alten-Eisen                                                  0.886441   \n",
       "Raabe,-Wilhelm_Stopfkuchen                                                     0.909698   \n",
       "\n",
       "                                                    Marlitt,-Eugenie_Das-Geheimnis-der-alten-Mamsell  \\\n",
       "Fontane,-Theodor_Der-Stechlin                                                               1.331243   \n",
       "Fontane,-Theodor_Effi-Briest                                                                1.304392   \n",
       "Fontane,-Theodor_Frau-Jenny-Treibel                                                         1.267795   \n",
       "Marlitt,-Eugenie_Das-Geheimnis-der-alten-Mamsell                                            0.000000   \n",
       "Marlitt,-Eugenie_Das-Heideprinzesschen                                                      0.725335   \n",
       "Marlitt,-Eugenie_Die-Frau-mit-den-Karfunkelsteinen                                          0.801244   \n",
       "Raabe,-Wilhelm_Die-Chronik-der-Sperlingsgasse                                               1.133478   \n",
       "Raabe,-Wilhelm_Im-alten-Eisen                                                               1.200938   \n",
       "Raabe,-Wilhelm_Stopfkuchen                                                                  1.268060   \n",
       "\n",
       "                                                    Marlitt,-Eugenie_Das-Heideprinzesschen  \\\n",
       "Fontane,-Theodor_Der-Stechlin                                                     1.119296   \n",
       "Fontane,-Theodor_Effi-Briest                                                      1.215294   \n",
       "Fontane,-Theodor_Frau-Jenny-Treibel                                               1.506644   \n",
       "Marlitt,-Eugenie_Das-Geheimnis-der-alten-Mamsell                                  0.725335   \n",
       "Marlitt,-Eugenie_Das-Heideprinzesschen                                            0.000000   \n",
       "Marlitt,-Eugenie_Die-Frau-mit-den-Karfunkelsteinen                                0.722380   \n",
       "Raabe,-Wilhelm_Die-Chronik-der-Sperlingsgasse                                     1.329303   \n",
       "Raabe,-Wilhelm_Im-alten-Eisen                                                     1.395609   \n",
       "Raabe,-Wilhelm_Stopfkuchen                                                        1.387786   \n",
       "\n",
       "                                                    Marlitt,-Eugenie_Die-Frau-mit-den-Karfunkelsteinen  \\\n",
       "Fontane,-Theodor_Der-Stechlin                                                                1.257329    \n",
       "Fontane,-Theodor_Effi-Briest                                                                 1.260774    \n",
       "Fontane,-Theodor_Frau-Jenny-Treibel                                                          1.354223    \n",
       "Marlitt,-Eugenie_Das-Geheimnis-der-alten-Mamsell                                             0.801244    \n",
       "Marlitt,-Eugenie_Das-Heideprinzesschen                                                       0.722380    \n",
       "Marlitt,-Eugenie_Die-Frau-mit-den-Karfunkelsteinen                                           0.000000    \n",
       "Raabe,-Wilhelm_Die-Chronik-der-Sperlingsgasse                                                1.203421    \n",
       "Raabe,-Wilhelm_Im-alten-Eisen                                                                1.215720    \n",
       "Raabe,-Wilhelm_Stopfkuchen                                                                   1.247171    \n",
       "\n",
       "                                                    Raabe,-Wilhelm_Die-Chronik-der-Sperlingsgasse  \\\n",
       "Fontane,-Theodor_Der-Stechlin                                                            1.402441   \n",
       "Fontane,-Theodor_Effi-Briest                                                             1.280661   \n",
       "Fontane,-Theodor_Frau-Jenny-Treibel                                                      0.837908   \n",
       "Marlitt,-Eugenie_Das-Geheimnis-der-alten-Mamsell                                         1.133478   \n",
       "Marlitt,-Eugenie_Das-Heideprinzesschen                                                   1.329303   \n",
       "Marlitt,-Eugenie_Die-Frau-mit-den-Karfunkelsteinen                                       1.203421   \n",
       "Raabe,-Wilhelm_Die-Chronik-der-Sperlingsgasse                                            0.000000   \n",
       "Raabe,-Wilhelm_Im-alten-Eisen                                                            0.732207   \n",
       "Raabe,-Wilhelm_Stopfkuchen                                                               0.793546   \n",
       "\n",
       "                                                    Raabe,-Wilhelm_Im-alten-Eisen  \\\n",
       "Fontane,-Theodor_Der-Stechlin                                            1.343237   \n",
       "Fontane,-Theodor_Effi-Briest                                             1.258676   \n",
       "Fontane,-Theodor_Frau-Jenny-Treibel                                      0.886441   \n",
       "Marlitt,-Eugenie_Das-Geheimnis-der-alten-Mamsell                         1.200938   \n",
       "Marlitt,-Eugenie_Das-Heideprinzesschen                                   1.395609   \n",
       "Marlitt,-Eugenie_Die-Frau-mit-den-Karfunkelsteinen                       1.215720   \n",
       "Raabe,-Wilhelm_Die-Chronik-der-Sperlingsgasse                            0.732207   \n",
       "Raabe,-Wilhelm_Im-alten-Eisen                                            0.000000   \n",
       "Raabe,-Wilhelm_Stopfkuchen                                               0.624532   \n",
       "\n",
       "                                                    Raabe,-Wilhelm_Stopfkuchen  \n",
       "Fontane,-Theodor_Der-Stechlin                                         1.246155  \n",
       "Fontane,-Theodor_Effi-Briest                                          1.209208  \n",
       "Fontane,-Theodor_Frau-Jenny-Treibel                                   0.909698  \n",
       "Marlitt,-Eugenie_Das-Geheimnis-der-alten-Mamsell                      1.268060  \n",
       "Marlitt,-Eugenie_Das-Heideprinzesschen                                1.387786  \n",
       "Marlitt,-Eugenie_Die-Frau-mit-den-Karfunkelsteinen                    1.247171  \n",
       "Raabe,-Wilhelm_Die-Chronik-der-Sperlingsgasse                         0.793546  \n",
       "Raabe,-Wilhelm_Im-alten-Eisen                                         0.624532  \n",
       "Raabe,-Wilhelm_Stopfkuchen                                            0.000000  "
      ]
     },
     "execution_count": 3,
     "metadata": {},
     "output_type": "execute_result"
    }
   ],
   "source": [
    "distances = delta.functions.cosine_delta(corpus)\n",
    "distances"
   ]
  },
  {
   "cell_type": "code",
   "execution_count": 4,
   "metadata": {
    "collapsed": false,
    "deletable": true,
    "editable": true,
    "slideshow": {
     "slide_type": "subslide"
    }
   },
   "outputs": [
    {
     "data": {
      "text/plain": [
       "1.8519760450855456"
      ]
     },
     "execution_count": 4,
     "metadata": {},
     "output_type": "execute_result"
    }
   ],
   "source": [
    "distances.simple_score()"
   ]
  },
  {
   "cell_type": "code",
   "execution_count": 5,
   "metadata": {
    "collapsed": false,
    "deletable": true,
    "editable": true,
    "slideshow": {
     "slide_type": "-"
    }
   },
   "outputs": [
    {
     "data": {
      "text/plain": [
       "Metadata(complete=False, corpus='test/corpus3/', delta='cosine_delta', delta_descriptor='cosine-z_score', delta_title='Cosine Delta', features='words', frequencies=False, lower_case=False, normalization=('z_score', 'z_score'), ordered=True, words=2500)"
      ]
     },
     "execution_count": 5,
     "metadata": {},
     "output_type": "execute_result"
    }
   ],
   "source": [
    "distances.metadata"
   ]
  },
  {
   "cell_type": "markdown",
   "metadata": {
    "deletable": true,
    "editable": true,
    "slideshow": {
     "slide_type": "slide"
    }
   },
   "source": [
    "### Nun ein hierarchisches Clustering"
   ]
  },
  {
   "cell_type": "code",
   "execution_count": 6,
   "metadata": {
    "collapsed": false,
    "deletable": true,
    "editable": true
   },
   "outputs": [
    {
     "name": "stderr",
     "output_type": "stream",
     "text": [
      "/home/vitt/git/pydelta/delta/cluster.py:47: ClusterWarning: scipy.cluster: The symmetric non-negative hollow observation matrix looks suspiciously like an uncondensed distance matrix\n",
      "  metric=\"euclidean\")\n"
     ]
    },
    {
     "data": {
      "image/png": "[encoded data removed]",
      "text/plain": [
       "<matplotlib.figure.Figure at 0x7f1ad5746c18>"
      ]
     },
     "metadata": {},
     "output_type": "display_data"
    }
   ],
   "source": [
    "hclust = delta.Clustering(distances)\n",
    "delta.Dendrogram(hclust).show()"
   ]
  },
  {
   "cell_type": "markdown",
   "metadata": {
    "deletable": true,
    "editable": true,
    "slideshow": {
     "slide_type": "subslide"
    }
   },
   "source": [
    "### Flachklopfen"
   ]
  },
  {
   "cell_type": "code",
   "execution_count": 7,
   "metadata": {
    "collapsed": false,
    "deletable": true,
    "editable": true,
    "slideshow": {
     "slide_type": "-"
    }
   },
   "outputs": [
    {
     "name": "stdout",
     "output_type": "stream",
     "text": [
      "3 clusters of 9 documents (ground truth: 3 groups):\n",
      "{1: ['Fontane: Frau Jenny Treibel', 'Raabe: Chronik der Sperlingsgas…',\n",
      "     'Raabe: Im alten Eisen', 'Raabe: Stopfkuchen'],\n",
      " 2: ['Fontane: Stechlin', 'Fontane: Effi Briest'],\n",
      " 3: ['Marlitt: Geheimnis der alten Mams…', 'Marlitt: Heideprinzesschen',\n",
      "     'Marlitt: Frau mit den Karfunkelst…']}\n",
      "\n",
      "Cluster Errors         1.000000\n",
      "Adjusted Rand Index    0.642857\n",
      "Homogeneity            0.772507\n",
      "Completeness           0.800000\n",
      "V Measure              0.786013\n",
      "Purity                 0.888889\n",
      "Entropy                0.227493\n",
      "dtype: float64\n"
     ]
    }
   ],
   "source": [
    "fclust = hclust.fclustering()\n",
    "print(fclust.describe())\n",
    "print(fclust.evaluate())"
   ]
  },
  {
   "cell_type": "markdown",
   "metadata": {
    "deletable": true,
    "editable": true,
    "slideshow": {
     "slide_type": "slide"
    }
   },
   "source": [
    "### Deltafunktionen\n",
    "\n",
    "Cosine Delta kann jeder. Was gibts denn sonst so?"
   ]
  },
  {
   "cell_type": "code",
   "execution_count": 8,
   "metadata": {
    "collapsed": false,
    "deletable": true,
    "editable": true,
    "slideshow": {
     "slide_type": "-"
    }
   },
   "outputs": [
    {
     "name": "stdout",
     "output_type": "stream",
     "text": [
      "\n",
      "        16 Delta Functions:\n",
      "        ------------------\n",
      "        manhattan (Manhattan Distance)\n",
      "euclidean (Euclidean Distance)\n",
      "eder_simple (Eder's Simple) = manhattan-sqrt\n",
      "eder (Eder's Delta) = manhattan-z_score-eder_std\n",
      "chebyshev (Chebyshev Distance)\n",
      "Linear Delta = linear\n",
      "canberra (Canberra Distance)\n",
      "correlation (Correlation Distance)\n",
      "sqeuclidean (Squared Euclidean Distance)\n",
      "cosine (Cosine Distance)\n",
      "braycurtis (Bray-Curtis Distance)\n",
      "quadratic (Quadratic Delta) = sqeuclidean-z_score\n",
      "cosine_delta (Cosine Delta) = cosine-z_score\n",
      "distance = linear2\n",
      "_classic_delta = burrows2\n",
      "burrows (Burrows' Delta) = manhattan-z_score\n",
      "\n",
      "        8 Normalizations:\n",
      "        -----------------\n",
      "        diversity_scaled\n",
      "ternarize\n",
      "length_normalized\n",
      "clamp\n",
      "binarize\n",
      "eder_std\n",
      "z_score (Z-Score)\n",
      "sqrt\n",
      "        \n"
     ]
    }
   ],
   "source": [
    "print(delta.functions)"
   ]
  },
  {
   "cell_type": "markdown",
   "metadata": {
    "deletable": true,
    "editable": true,
    "slideshow": {
     "slide_type": "subslide"
    }
   },
   "source": [
    "Da fehlt Everts Ternarisierung! Erstmal eine Normalisierungsfunktion schreiben:"
   ]
  },
  {
   "cell_type": "code",
   "execution_count": 9,
   "metadata": {
    "collapsed": false,
    "deletable": true,
    "editable": true,
    "slideshow": {
     "slide_type": "fragment"
    }
   },
   "outputs": [
    {
     "name": "stderr",
     "output_type": "stream",
     "text": [
      "Registering ternarize as ternarize, replacing existing function with this name\n"
     ]
    }
   ],
   "source": [
    "@delta.normalization\n",
    "def ternarize(z):    \n",
    "    result = pd.DataFrame(np.zeros_like(z), index=z.index, columns=z.columns)\n",
    "    result[z < -2/3] = -1\n",
    "    result[z > +2/3] = +1\n",
    "    return result"
   ]
  },
  {
   "cell_type": "markdown",
   "metadata": {
    "deletable": true,
    "editable": true,
    "slideshow": {
     "slide_type": "fragment"
    }
   },
   "source": [
    "Nun in eine Deltafunktion einbauen."
   ]
  },
  {
   "cell_type": "code",
   "execution_count": 10,
   "metadata": {
    "collapsed": false,
    "deletable": true,
    "editable": true,
    "slideshow": {
     "slide_type": "fragment"
    }
   },
   "outputs": [
    {
     "data": {
      "text/plain": [
       "<delta.deltas.CompositeDeltaFunction at 0x7f1ad56fd208>"
      ]
     },
     "execution_count": 10,
     "metadata": {},
     "output_type": "execute_result"
    }
   ],
   "source": [
    "delta.deltas.CompositeDeltaFunction(descriptor=\"euclidean-z_score-ternarize\", name=\"ternarized_delta\", title=\"Ternarized Delta\")\n",
    "#  heute schrübe ich das nicht mehr so -----------´"
   ]
  },
  {
   "cell_type": "code",
   "execution_count": 11,
   "metadata": {
    "collapsed": false,
    "deletable": true,
    "editable": true,
    "slideshow": {
     "slide_type": "subslide"
    }
   },
   "outputs": [
    {
     "name": "stderr",
     "output_type": "stream",
     "text": [
      "/home/vitt/git/pydelta/delta/cluster.py:47: ClusterWarning: scipy.cluster: The symmetric non-negative hollow observation matrix looks suspiciously like an uncondensed distance matrix\n",
      "  metric=\"euclidean\")\n"
     ]
    },
    {
     "data": {
      "image/png": "[encoded data removed]",
      "text/plain": [
       "<matplotlib.figure.Figure at 0x7f1ad572ef28>"
      ]
     },
     "metadata": {},
     "output_type": "display_data"
    }
   ],
   "source": [
    "distances_t = delta.functions.ternarized_delta(corpus)\n",
    "hclust_t = delta.Clustering(distances_t)\n",
    "delta.Dendrogram(hclust_t).show()"
   ]
  },
  {
   "cell_type": "code",
   "execution_count": 12,
   "metadata": {
    "collapsed": false,
    "deletable": true,
    "editable": true,
    "slideshow": {
     "slide_type": "subslide"
    }
   },
   "outputs": [
    {
     "name": "stdout",
     "output_type": "stream",
     "text": [
      "F-Ratio          0.389302\n",
      "Fisher's LD     19.494347\n",
      "Simple Score     1.784925\n",
      "dtype: float64\n"
     ]
    }
   ],
   "source": [
    "print(distances_t.evaluate())"
   ]
  },
  {
   "cell_type": "code",
   "execution_count": 13,
   "metadata": {
    "collapsed": false,
    "deletable": true,
    "editable": true,
    "slideshow": {
     "slide_type": "-"
    }
   },
   "outputs": [
    {
     "data": {
      "text/plain": [
       "Metadata(complete=False, corpus='test/corpus3/', delta='ternarized_delta', delta_descriptor='euclidean-z_score-ternarize', delta_title='Ternarized Delta', features='words', frequencies=False, lower_case=False, normalization=('z_score', 'ternarize', 'z_score', 'ternarize'), ordered=True, words=2500)"
      ]
     },
     "execution_count": 13,
     "metadata": {},
     "output_type": "execute_result"
    }
   ],
   "source": [
    "distances_t.metadata"
   ]
  },
  {
   "cell_type": "code",
   "execution_count": 14,
   "metadata": {
    "collapsed": false,
    "deletable": true,
    "editable": true,
    "slideshow": {
     "slide_type": "slide"
    }
   },
   "outputs": [
    {
     "name": "stderr",
     "output_type": "stream",
     "text": [
      "/home/vitt/git/pydelta/delta/cluster.py:47: ClusterWarning: scipy.cluster: The symmetric non-negative hollow observation matrix looks suspiciously like an uncondensed distance matrix\n",
      "  metric=\"euclidean\")\n"
     ]
    },
    {
     "data": {
      "image/png": "[encoded data removed]",
      "text/plain": [
       "<matplotlib.figure.Figure at 0x7f1ad18c1978>"
      ]
     },
     "metadata": {},
     "output_type": "display_data"
    }
   ],
   "source": [
    "ncorpus = delta.Corpus('test/corpus3/', feature_generator=delta.FeatureGenerator(lower_case=True, ngrams=2))\n",
    "delta.Dendrogram(delta.Clustering(delta.functions.ternarized_delta(ncorpus.top_n(2500)))).show()"
   ]
  }
 ],
 "metadata": {
  "celltoolbar": "Slideshow",
  "kernelspec": {
   "display_name": "pydelta-next",
   "language": "python",
   "name": "pydelta-next"
  },
  "language_info": {
   "codemirror_mode": {
    "name": "ipython",
    "version": 3
   },
   "file_extension": ".py",
   "mimetype": "text/x-python",
   "name": "python",
   "nbconvert_exporter": "python",
   "pygments_lexer": "ipython3",
   "version": "3.4.6"
  }
 },
 "nbformat": 4,
 "nbformat_minor": 2
}

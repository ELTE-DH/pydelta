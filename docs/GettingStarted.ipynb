{
 "cells": [
  {
   "cell_type": "markdown",
   "metadata": {
    "deletable": true,
    "editable": true
   },
   "source": [
    "## Getting Started with pyDelta's _next_ branch\n",
    "\n",
    "pyDelta's _next_ branch contains our work-in-progress implementation of experiments using Delta variants as a python library. We assume you have installed the library using `pip`.\n",
    "\n",
    "First, let's import the delta package:"
   ]
  },
  {
   "cell_type": "code",
   "execution_count": 2,
   "metadata": {
    "collapsed": false,
    "deletable": true,
    "editable": true
   },
   "outputs": [
    {
     "name": "stderr",
     "output_type": "stream",
     "text": [
      "KMedoids clustering not available.\n",
      "You need a patched scikit-learn, see README.txt\n",
      "Traceback (most recent call last):\n",
      "  File \"/home/tv/git/pydelta.2015/delta/cluster.py\", line 235, in <module>\n",
      "    from sklearn.cluster import KMedoids\n",
      "ImportError: cannot import name 'KMedoids'\n",
      "/home/tv/git/pydelta.2015/delta/__init__.py:33: UserWarning: KMedoidsClustering not available\n",
      "  warn(\"KMedoidsClustering not available\")\n"
     ]
    }
   ],
   "source": [
    "import delta"
   ]
  },
  {
   "cell_type": "markdown",
   "metadata": {
    "deletable": true,
    "editable": true
   },
   "source": [
    "Support for PAM / k-medoids clustering is planned to be included into scikit-learn, however it is only available in a preliminary form on a specific branch yet. Pydelta will still work without PAM support using the default hierarchical _ward_ clustering."
   ]
  },
  {
   "cell_type": "markdown",
   "metadata": {
    "deletable": true,
    "editable": true
   },
   "source": [
    "### Loading the corpus and preparing the feature matrix\n",
    "\n",
    "The [Corpus](delta.html#delta.corpus.Corpus) class represents the corpus as a bag-of-words feature matrix. In its simplest form, you can just call `Corpus` and pass it the directory your texts reside in:"
   ]
  },
  {
   "cell_type": "code",
   "execution_count": 3,
   "metadata": {
    "collapsed": true,
    "deletable": true,
    "editable": true
   },
   "outputs": [],
   "source": [
    "raw_corpus = delta.Corpus('../../refcor/German')"
   ]
  },
  {
   "cell_type": "markdown",
   "metadata": {
    "deletable": true,
    "editable": true
   },
   "source": [
    "This simple form assumes your texts in plain text files following the pattern `Author_Title.txt`. The reference corpora of English, French and German novels we use [can be found on Github](https://github.com/cophi-wue/refcor). If your corpus looks different, or if you need other ways of feature extraction than our simple tokenizer regular expression, have a look at the full documentation of our Corpus class for ways of parametrizing or further customizing feature extraction."
   ]
  },
  {
   "cell_type": "markdown",
   "metadata": {
    "deletable": true,
    "editable": true
   },
   "source": [
    "`Corpus` is simply a subclass of pandas' DataFrame. The rows represent the documents, the columns the individual types. Let's look at the Corpus' top left corner:"
   ]
  },
  {
   "cell_type": "code",
   "execution_count": 4,
   "metadata": {
    "collapsed": false,
    "deletable": true,
    "editable": true
   },
   "outputs": [
    {
     "name": "stdout",
     "output_type": "stream",
     "text": [
      "(75, 255358)\n"
     ]
    },
    {
     "data": {
      "text/html": [
       "<div>\n",
       "<table border=\"1\" class=\"dataframe\">\n",
       "  <thead>\n",
       "    <tr style=\"text-align: right;\">\n",
       "      <th></th>\n",
       "      <th>und</th>\n",
       "      <th>die</th>\n",
       "      <th>der</th>\n",
       "      <th>zu</th>\n",
       "      <th>in</th>\n",
       "      <th>er</th>\n",
       "      <th>den</th>\n",
       "      <th>sie</th>\n",
       "      <th>ich</th>\n",
       "      <th>nicht</th>\n",
       "    </tr>\n",
       "  </thead>\n",
       "  <tbody>\n",
       "    <tr>\n",
       "      <th>Arnim,-Ludwig-Achim-von_Armut Reichtum Schuld und Busse der Graefin Dolores</th>\n",
       "      <td>3691.0</td>\n",
       "      <td>3514.0</td>\n",
       "      <td>3421.0</td>\n",
       "      <td>1901.0</td>\n",
       "      <td>2226.0</td>\n",
       "      <td>2511.0</td>\n",
       "      <td>1444.0</td>\n",
       "      <td>2496.0</td>\n",
       "      <td>1170.0</td>\n",
       "      <td>1144.0</td>\n",
       "    </tr>\n",
       "    <tr>\n",
       "      <th>Arnim,-Ludwig-Achim-von_Isabella von Aegypten</th>\n",
       "      <td>1163.0</td>\n",
       "      <td>934.0</td>\n",
       "      <td>953.0</td>\n",
       "      <td>550.0</td>\n",
       "      <td>634.0</td>\n",
       "      <td>705.0</td>\n",
       "      <td>494.0</td>\n",
       "      <td>911.0</td>\n",
       "      <td>245.0</td>\n",
       "      <td>387.0</td>\n",
       "    </tr>\n",
       "    <tr>\n",
       "      <th>Arnim,-Ludwig-Achim-von_Kronenwaechter 1</th>\n",
       "      <td>2749.0</td>\n",
       "      <td>2494.0</td>\n",
       "      <td>2619.0</td>\n",
       "      <td>1309.0</td>\n",
       "      <td>1362.0</td>\n",
       "      <td>1815.0</td>\n",
       "      <td>1259.0</td>\n",
       "      <td>1306.0</td>\n",
       "      <td>699.0</td>\n",
       "      <td>844.0</td>\n",
       "    </tr>\n",
       "    <tr>\n",
       "      <th>Dohm,-Hedwig_Christa Ruland</th>\n",
       "      <td>1311.0</td>\n",
       "      <td>1494.0</td>\n",
       "      <td>1115.0</td>\n",
       "      <td>744.0</td>\n",
       "      <td>942.0</td>\n",
       "      <td>550.0</td>\n",
       "      <td>659.0</td>\n",
       "      <td>1301.0</td>\n",
       "      <td>671.0</td>\n",
       "      <td>780.0</td>\n",
       "    </tr>\n",
       "    <tr>\n",
       "      <th>Dohm,-Hedwig_Schicksale einer Seele</th>\n",
       "      <td>2196.0</td>\n",
       "      <td>2037.0</td>\n",
       "      <td>1589.0</td>\n",
       "      <td>931.0</td>\n",
       "      <td>1418.0</td>\n",
       "      <td>695.0</td>\n",
       "      <td>797.0</td>\n",
       "      <td>929.0</td>\n",
       "      <td>2051.0</td>\n",
       "      <td>1137.0</td>\n",
       "    </tr>\n",
       "  </tbody>\n",
       "</table>\n",
       "</div>"
      ],
      "text/plain": [
       "                                                       und     die     der  \\\n",
       "Arnim,-Ludwig-Achim-von_Armut Reichtum Schuld u...  3691.0  3514.0  3421.0   \n",
       "Arnim,-Ludwig-Achim-von_Isabella von Aegypten       1163.0   934.0   953.0   \n",
       "Arnim,-Ludwig-Achim-von_Kronenwaechter 1            2749.0  2494.0  2619.0   \n",
       "Dohm,-Hedwig_Christa Ruland                         1311.0  1494.0  1115.0   \n",
       "Dohm,-Hedwig_Schicksale einer Seele                 2196.0  2037.0  1589.0   \n",
       "\n",
       "                                                        zu      in      er  \\\n",
       "Arnim,-Ludwig-Achim-von_Armut Reichtum Schuld u...  1901.0  2226.0  2511.0   \n",
       "Arnim,-Ludwig-Achim-von_Isabella von Aegypten        550.0   634.0   705.0   \n",
       "Arnim,-Ludwig-Achim-von_Kronenwaechter 1            1309.0  1362.0  1815.0   \n",
       "Dohm,-Hedwig_Christa Ruland                          744.0   942.0   550.0   \n",
       "Dohm,-Hedwig_Schicksale einer Seele                  931.0  1418.0   695.0   \n",
       "\n",
       "                                                       den     sie     ich  \\\n",
       "Arnim,-Ludwig-Achim-von_Armut Reichtum Schuld u...  1444.0  2496.0  1170.0   \n",
       "Arnim,-Ludwig-Achim-von_Isabella von Aegypten        494.0   911.0   245.0   \n",
       "Arnim,-Ludwig-Achim-von_Kronenwaechter 1            1259.0  1306.0   699.0   \n",
       "Dohm,-Hedwig_Christa Ruland                          659.0  1301.0   671.0   \n",
       "Dohm,-Hedwig_Schicksale einer Seele                  797.0   929.0  2051.0   \n",
       "\n",
       "                                                     nicht  \n",
       "Arnim,-Ludwig-Achim-von_Armut Reichtum Schuld u...  1144.0  \n",
       "Arnim,-Ludwig-Achim-von_Isabella von Aegypten        387.0  \n",
       "Arnim,-Ludwig-Achim-von_Kronenwaechter 1             844.0  \n",
       "Dohm,-Hedwig_Christa Ruland                          780.0  \n",
       "Dohm,-Hedwig_Schicksale einer Seele                 1137.0  "
      ]
     },
     "execution_count": 4,
     "metadata": {},
     "output_type": "execute_result"
    }
   ],
   "source": [
    "print(raw_corpus.shape)\n",
    "raw_corpus.iloc[0:5,0:10]"
   ]
  },
  {
   "cell_type": "markdown",
   "metadata": {
    "deletable": true,
    "editable": true
   },
   "source": [
    "The matrix contains the absolute frequencies of each word in each document, columns are sorted by the sum of all absolute frequencies."
   ]
  },
  {
   "cell_type": "markdown",
   "metadata": {
    "deletable": true,
    "editable": true
   },
   "source": [
    "Corpus has a few methods to manipulate the feature matrix, e.g., to perform culling: To remove all tokens that are not present in at least ⅓ of all documents, use"
   ]
  },
  {
   "cell_type": "code",
   "execution_count": 5,
   "metadata": {
    "collapsed": false,
    "deletable": true,
    "editable": true
   },
   "outputs": [
    {
     "name": "stdout",
     "output_type": "stream",
     "text": [
      "(75, 11011)\n"
     ]
    }
   ],
   "source": [
    "culled_corpus = raw_corpus.cull(1/3)\n",
    "print(culled_corpus.shape)"
   ]
  },
  {
   "cell_type": "markdown",
   "metadata": {
    "deletable": true,
    "editable": true
   },
   "source": [
    "Unless documented otherwise, these method return a new modified corpus instead of changing the current one.\n",
    "\n",
    "\n",
    "For most experiments, you'll want to work on [the relative frequencies](delta.html#corpus.Corpus.relative_frequencies) of [the $n$ most frequent words](delta.html#corpus.Corpus.topn). There is a  [combined method](delta.html#corpus.Corpus.get_mfw_table) for that:"
   ]
  },
  {
   "cell_type": "code",
   "execution_count": 6,
   "metadata": {
    "collapsed": true,
    "deletable": true,
    "editable": true
   },
   "outputs": [],
   "source": [
    "c2500 = raw_corpus.get_mfw_table(2500)"
   ]
  },
  {
   "cell_type": "markdown",
   "metadata": {
    "deletable": true,
    "editable": true
   },
   "source": [
    "### Using delta functions to create a distance matrix"
   ]
  },
  {
   "cell_type": "markdown",
   "metadata": {
    "deletable": true,
    "editable": true
   },
   "source": [
    "pydelta provides a number of delta functions by name that all produce a [distance matrix](delta.html#deltas.DistanceMatrix). To run, e.g., Cosine Delta on our corpus from above:"
   ]
  },
  {
   "cell_type": "code",
   "execution_count": 7,
   "metadata": {
    "collapsed": false,
    "deletable": true,
    "editable": true
   },
   "outputs": [
    {
     "data": {
      "text/html": [
       "<div>\n",
       "<table border=\"1\" class=\"dataframe\">\n",
       "  <thead>\n",
       "    <tr style=\"text-align: right;\">\n",
       "      <th></th>\n",
       "      <th>Arnim,-Ludwig-Achim-von_Armut Reichtum Schuld und Busse der Graefin Dolores</th>\n",
       "      <th>Arnim,-Ludwig-Achim-von_Isabella von Aegypten</th>\n",
       "      <th>Arnim,-Ludwig-Achim-von_Kronenwaechter 1</th>\n",
       "      <th>Dohm,-Hedwig_Christa Ruland</th>\n",
       "      <th>Dohm,-Hedwig_Schicksale einer Seele</th>\n",
       "    </tr>\n",
       "  </thead>\n",
       "  <tbody>\n",
       "    <tr>\n",
       "      <th>Arnim,-Ludwig-Achim-von_Armut Reichtum Schuld und Busse der Graefin Dolores</th>\n",
       "      <td>0.000000</td>\n",
       "      <td>0.644430</td>\n",
       "      <td>0.631107</td>\n",
       "      <td>1.058730</td>\n",
       "      <td>1.010352</td>\n",
       "    </tr>\n",
       "    <tr>\n",
       "      <th>Arnim,-Ludwig-Achim-von_Isabella von Aegypten</th>\n",
       "      <td>0.644430</td>\n",
       "      <td>0.000000</td>\n",
       "      <td>0.626108</td>\n",
       "      <td>1.061473</td>\n",
       "      <td>1.024089</td>\n",
       "    </tr>\n",
       "    <tr>\n",
       "      <th>Arnim,-Ludwig-Achim-von_Kronenwaechter 1</th>\n",
       "      <td>0.631107</td>\n",
       "      <td>0.626108</td>\n",
       "      <td>0.000000</td>\n",
       "      <td>1.066369</td>\n",
       "      <td>1.071329</td>\n",
       "    </tr>\n",
       "    <tr>\n",
       "      <th>Dohm,-Hedwig_Christa Ruland</th>\n",
       "      <td>1.058730</td>\n",
       "      <td>1.061473</td>\n",
       "      <td>1.066369</td>\n",
       "      <td>0.000000</td>\n",
       "      <td>0.515765</td>\n",
       "    </tr>\n",
       "    <tr>\n",
       "      <th>Dohm,-Hedwig_Schicksale einer Seele</th>\n",
       "      <td>1.010352</td>\n",
       "      <td>1.024089</td>\n",
       "      <td>1.071329</td>\n",
       "      <td>0.515765</td>\n",
       "      <td>0.000000</td>\n",
       "    </tr>\n",
       "  </tbody>\n",
       "</table>\n",
       "</div>"
      ],
      "text/plain": [
       "                                                    Arnim,-Ludwig-Achim-von_Armut Reichtum Schuld und Busse der Graefin Dolores  \\\n",
       "Arnim,-Ludwig-Achim-von_Armut Reichtum Schuld u...                                           0.000000                             \n",
       "Arnim,-Ludwig-Achim-von_Isabella von Aegypten                                                0.644430                             \n",
       "Arnim,-Ludwig-Achim-von_Kronenwaechter 1                                                     0.631107                             \n",
       "Dohm,-Hedwig_Christa Ruland                                                                  1.058730                             \n",
       "Dohm,-Hedwig_Schicksale einer Seele                                                          1.010352                             \n",
       "\n",
       "                                                    Arnim,-Ludwig-Achim-von_Isabella von Aegypten  \\\n",
       "Arnim,-Ludwig-Achim-von_Armut Reichtum Schuld u...                                       0.644430   \n",
       "Arnim,-Ludwig-Achim-von_Isabella von Aegypten                                            0.000000   \n",
       "Arnim,-Ludwig-Achim-von_Kronenwaechter 1                                                 0.626108   \n",
       "Dohm,-Hedwig_Christa Ruland                                                              1.061473   \n",
       "Dohm,-Hedwig_Schicksale einer Seele                                                      1.024089   \n",
       "\n",
       "                                                    Arnim,-Ludwig-Achim-von_Kronenwaechter 1  \\\n",
       "Arnim,-Ludwig-Achim-von_Armut Reichtum Schuld u...                                  0.631107   \n",
       "Arnim,-Ludwig-Achim-von_Isabella von Aegypten                                       0.626108   \n",
       "Arnim,-Ludwig-Achim-von_Kronenwaechter 1                                            0.000000   \n",
       "Dohm,-Hedwig_Christa Ruland                                                         1.066369   \n",
       "Dohm,-Hedwig_Schicksale einer Seele                                                 1.071329   \n",
       "\n",
       "                                                    Dohm,-Hedwig_Christa Ruland  \\\n",
       "Arnim,-Ludwig-Achim-von_Armut Reichtum Schuld u...                     1.058730   \n",
       "Arnim,-Ludwig-Achim-von_Isabella von Aegypten                          1.061473   \n",
       "Arnim,-Ludwig-Achim-von_Kronenwaechter 1                               1.066369   \n",
       "Dohm,-Hedwig_Christa Ruland                                            0.000000   \n",
       "Dohm,-Hedwig_Schicksale einer Seele                                    0.515765   \n",
       "\n",
       "                                                    Dohm,-Hedwig_Schicksale einer Seele  \n",
       "Arnim,-Ludwig-Achim-von_Armut Reichtum Schuld u...                             1.010352  \n",
       "Arnim,-Ludwig-Achim-von_Isabella von Aegypten                                  1.024089  \n",
       "Arnim,-Ludwig-Achim-von_Kronenwaechter 1                                       1.071329  \n",
       "Dohm,-Hedwig_Christa Ruland                                                    0.515765  \n",
       "Dohm,-Hedwig_Schicksale einer Seele                                            0.000000  "
      ]
     },
     "execution_count": 7,
     "metadata": {},
     "output_type": "execute_result"
    }
   ],
   "source": [
    "distances = delta.functions.cosine_delta(c2500)\n",
    "distances.iloc[:5,:5]"
   ]
  },
  {
   "cell_type": "markdown",
   "metadata": {
    "deletable": true,
    "editable": true
   },
   "source": [
    "It is possible to run a few evaluations already on the distance matrix:"
   ]
  },
  {
   "cell_type": "code",
   "execution_count": 7,
   "metadata": {
    "collapsed": false,
    "deletable": true,
    "editable": true
   },
   "outputs": [
    {
     "data": {
      "text/plain": [
       "F-Ratio         0.335886\n",
       "Fisher's LD     2.262457\n",
       "Simple Score    3.857334\n",
       "dtype: float64"
      ]
     },
     "execution_count": 7,
     "metadata": {},
     "output_type": "execute_result"
    }
   ],
   "source": [
    "distances.evaluate()"
   ]
  },
  {
   "cell_type": "markdown",
   "metadata": {
    "deletable": true,
    "editable": true
   },
   "source": [
    "F-Ratio and Fisher's Linear Discriminant are established measures (see Heeringa et al., 2008), to calculate the _Simple Score_ we first standardize the distances and then calculate the difference between the mean distances between out-group and in-group texts (i.e., texts by different authors and texts by the same author)."
   ]
  },
  {
   "cell_type": "markdown",
   "metadata": {
    "deletable": true,
    "editable": true
   },
   "source": [
    "### Clustering results\n",
    "\n",
    "It is common to use _clustering_ on the basis of the distance matrix in order to group similar texts. pydeltas [Clustering](delta.rst#cluster.Clustering) class is a convenience wrapper around hierarchical clustering methods, of which _Ward clustering_ is the default:"
   ]
  },
  {
   "cell_type": "code",
   "execution_count": 8,
   "metadata": {
    "collapsed": false,
    "deletable": true,
    "editable": true,
    "scrolled": true
   },
   "outputs": [],
   "source": [
    "clustering = delta.Clustering(distances)"
   ]
  },
  {
   "cell_type": "markdown",
   "metadata": {
    "deletable": true,
    "editable": true
   },
   "source": [
    "A hierarchical clustering is typically visualized using a _Dendrogram_. We've [included an implementation](delta.html#graph.Dendrogram) that colors by author and provides labels using the [DocumentDescriber](delta.html#corpus.DocumentDescriber) that is assigned when creating the corpus:"
   ]
  },
  {
   "cell_type": "code",
   "execution_count": 9,
   "metadata": {
    "collapsed": false,
    "deletable": true,
    "editable": true
   },
   "outputs": [
    {
     "data": {
      "image/png": "[encoded data removed]",
      "text/plain": [
       "<matplotlib.figure.Figure at 0x7fd50d2f3c50>"
      ]
     },
     "metadata": {},
     "output_type": "display_data"
    }
   ],
   "source": [
    "import matplotlib.pyplot as plt\n",
    "plt.figure(figsize=(10,15))\n",
    "delta.Dendrogram(clustering).show()"
   ]
  },
  {
   "cell_type": "markdown",
   "metadata": {
    "collapsed": true,
    "deletable": true,
    "editable": true
   },
   "source": [
    "For any but a visual inspection, it is probably best to cut through the hierarchical clustering to provide flat clusters. This can be done with default settings from the hierarchical clustering:"
   ]
  },
  {
   "cell_type": "code",
   "execution_count": 10,
   "metadata": {
    "collapsed": false,
    "deletable": true,
    "editable": true
   },
   "outputs": [
    {
     "name": "stdout",
     "output_type": "stream",
     "text": [
      "25 clusters of 75 documents (ground truth: 25 groups):\n",
      "{1: ['Goethe: Wahlverwandtschaften', 'Goethe: Wilhelm Meisters Lehrjah…'],\n",
      " 2: ['Wieland: Aristipp und einige sein…', 'Wieland: Abenteuer des Don Sylvio…',\n",
      "     'Wieland: Geschichte des Agathon'],\n",
      " 3: ['Fischer: Honigmonathe', 'Fischer: Gustavs Verirrungen',\n",
      "     'Fischer: Margarethe'],\n",
      " 4: ['Goethe: Leiden des jungen Werther', 'Tieck: Franz Sternbalds Wanderu…',\n",
      "     'Tieck: Geschichte des Herrn Wil…', 'Tieck: Vittoria Accorombona'],\n",
      " 5: ['Lewald: Clementine', 'Lewald: Lebensfrage', 'Lewald: Jenny'],\n",
      " 6: ['Hahn-Hahn: Graefin Faustine', 'Hahn-Hahn: Maria Regina',\n",
      "     'Hahn-Hahn: Sibylle'],\n",
      " 7: ['Fouque: Frau des Falkensteins', 'Fouque: Magie der Natur',\n",
      "     'Fouque: Resignation'],\n",
      " 8: ['Schopenhauer: Tante', 'Schopenhauer: Gabriele',\n",
      "     'Schopenhauer: Richard Wood'],\n",
      " 9: ['Huber: Familie Seldorf', 'Huber: Ellen Percy', 'Huber: Luise'],\n",
      " 10: ['May: Im Reiche des silbernen …', 'May: Kurdistan',\n",
      "      'May: Old Surehand I'],\n",
      " 11: ['Kafka: Amerika', 'Kafka: Schloss', 'Kafka: Prozess'],\n",
      " 12: ['Marlitt: Geheimnis der alten Mams…',\n",
      "      'Marlitt: Frau mit den Karfunkelst…', 'Marlitt: Goldelse'],\n",
      " 13: ['Spielhagen: Hammer und Amboá', 'Spielhagen: Problematische Naturen  …',\n",
      "      'Spielhagen: Zum Zeitvertreib'],\n",
      " 14: ['Fontane: Stechlin', 'Fontane: Effi Briest',\n",
      "      'Fontane: Irrungen Wirrungen'],\n",
      " 15: ['Raabe: Odfeld', 'Raabe: Im alten Eisen',\n",
      "      'Raabe: Stopfkuchen Eine See  un…'],\n",
      " 16: ['Francois: letzte Reckenburgerin', 'Francois: Judith die Kluswirtin',\n",
      "      'Francois: Stufenjahre eines Glueck…'],\n",
      " 17: ['Freytag: Ahnen', 'Freytag: verlorene Handschrift',\n",
      "      'Freytag: Soll und Haben'],\n",
      " 18: ['Wassermann: Christian Wahnschaffe', 'Wassermann: Gaensemaennchen',\n",
      "      'Wassermann: Juden von Zirndorf'],\n",
      " 19: ['Ebner-Eschenbach: Bozena', 'Ebner-Eschenbach: Gemeindekind',\n",
      "      'Ebner-Eschenbach: Unsuehnbar'],\n",
      " 20: ['Keller: Sinngedicht', 'Keller: gruene Heinrich [Erste F…',\n",
      "      'Keller: Martin Salander'],\n",
      " 21: ['Arnim: Armut Reichtum Schuld un…', 'Arnim: Isabella von Aegypten',\n",
      "      'Arnim: Kronenwaechter 1'],\n",
      " 22: ['Hauff: Bettlerin vom Pont des A…', 'Hauff: Lichtenstein',\n",
      "      'Hauff: Mitteilungen aus den Mem…'],\n",
      " 23: ['Jean-Paul: Flegeljahre', 'Jean-Paul: Hesperus oder 45 Hundspo…',\n",
      "      'Jean-Paul: Titan'],\n",
      " 24: ['Dohm: Christa Ruland', 'Dohm: Schicksale einer Seele',\n",
      "      'Dohm: Sibilla Dalmar'],\n",
      " 25: ['Gutzkow: Zauberer von Rom', 'Gutzkow: Ritter vom Geiste',\n",
      "      'Gutzkow: Wally die Zweiflerin']}\n",
      "\n"
     ]
    }
   ],
   "source": [
    "clusters = clustering.fclustering()\n",
    "print(clusters.describe())"
   ]
  },
  {
   "cell_type": "markdown",
   "metadata": {
    "deletable": true,
    "editable": true
   },
   "source": [
    "There are also some measures of cluster quality built into [our class](delta.rst#cluster.FlatClustering):"
   ]
  },
  {
   "cell_type": "code",
   "execution_count": 11,
   "metadata": {
    "collapsed": false,
    "deletable": true,
    "editable": true
   },
   "outputs": [
    {
     "data": {
      "text/plain": [
       "Cluster Errors         1.000000\n",
       "Adjusted Rand Index    0.965961\n",
       "Homogeneity            0.990683\n",
       "Completeness           0.992079\n",
       "V Measure              0.991380\n",
       "Purity                 0.986667\n",
       "Entropy                0.009317\n",
       "dtype: float64"
      ]
     },
     "execution_count": 11,
     "metadata": {},
     "output_type": "execute_result"
    }
   ],
   "source": [
    "clusters.evaluate()"
   ]
  }
 ],
 "metadata": {
  "kernelspec": {
   "display_name": "pydelta-next",
   "language": "python",
   "name": "pydelta-next"
  },
  "language_info": {
   "codemirror_mode": {
    "name": "ipython",
    "version": 3
   },
   "file_extension": ".py",
   "mimetype": "text/x-python",
   "name": "python",
   "nbconvert_exporter": "python",
   "pygments_lexer": "ipython3",
   "version": "3.5.3rc1"
  }
 },
 "nbformat": 4,
 "nbformat_minor": 2
}
